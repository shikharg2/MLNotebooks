{
 "cells": [
  {
   "cell_type": "code",
   "execution_count": 1,
   "id": "39c8e8a3-eb71-4047-b062-04e808cf69b6",
   "metadata": {},
   "outputs": [],
   "source": [
    "import pandas as pd\n",
    "import numpy as np\n",
    "import nltk\n",
    "\n",
    "from nltk import word_tokenize"
   ]
  },
  {
   "cell_type": "code",
   "execution_count": 9,
   "id": "bf26b689-a090-4fc9-9585-f0d2f9153ce5",
   "metadata": {},
   "outputs": [
    {
     "name": "stderr",
     "output_type": "stream",
     "text": [
      "[nltk_data] Downloading package punkt to /Users/shikhar/nltk_data...\n",
      "[nltk_data]   Package punkt is already up-to-date!\n"
     ]
    },
    {
     "data": {
      "text/plain": [
       "True"
      ]
     },
     "execution_count": 9,
     "metadata": {},
     "output_type": "execute_result"
    }
   ],
   "source": [
    "nltk.download('punkt') # data for word tokenizer"
   ]
  },
  {
   "cell_type": "code",
   "execution_count": 3,
   "id": "fcedaa7e-613f-4f5e-a19f-a8d0f9276d4e",
   "metadata": {},
   "outputs": [],
   "source": [
    "df = pd.read_csv('/Users/shikhar/Downloads/bbc_text_cls.csv')"
   ]
  },
  {
   "cell_type": "code",
   "execution_count": 4,
   "id": "009679f0-64e1-4b84-89e1-ee3af1434b4e",
   "metadata": {},
   "outputs": [
    {
     "data": {
      "text/html": [
       "<div>\n",
       "<style scoped>\n",
       "    .dataframe tbody tr th:only-of-type {\n",
       "        vertical-align: middle;\n",
       "    }\n",
       "\n",
       "    .dataframe tbody tr th {\n",
       "        vertical-align: top;\n",
       "    }\n",
       "\n",
       "    .dataframe thead th {\n",
       "        text-align: right;\n",
       "    }\n",
       "</style>\n",
       "<table border=\"1\" class=\"dataframe\">\n",
       "  <thead>\n",
       "    <tr style=\"text-align: right;\">\n",
       "      <th></th>\n",
       "      <th>text</th>\n",
       "      <th>labels</th>\n",
       "    </tr>\n",
       "  </thead>\n",
       "  <tbody>\n",
       "    <tr>\n",
       "      <th>0</th>\n",
       "      <td>Ad sales boost Time Warner profit\\n\\nQuarterly...</td>\n",
       "      <td>business</td>\n",
       "    </tr>\n",
       "    <tr>\n",
       "      <th>1</th>\n",
       "      <td>Dollar gains on Greenspan speech\\n\\nThe dollar...</td>\n",
       "      <td>business</td>\n",
       "    </tr>\n",
       "    <tr>\n",
       "      <th>2</th>\n",
       "      <td>Yukos unit buyer faces loan claim\\n\\nThe owner...</td>\n",
       "      <td>business</td>\n",
       "    </tr>\n",
       "    <tr>\n",
       "      <th>3</th>\n",
       "      <td>High fuel prices hit BA's profits\\n\\nBritish A...</td>\n",
       "      <td>business</td>\n",
       "    </tr>\n",
       "    <tr>\n",
       "      <th>4</th>\n",
       "      <td>Pernod takeover talk lifts Domecq\\n\\nShares in...</td>\n",
       "      <td>business</td>\n",
       "    </tr>\n",
       "  </tbody>\n",
       "</table>\n",
       "</div>"
      ],
      "text/plain": [
       "                                                text    labels\n",
       "0  Ad sales boost Time Warner profit\\n\\nQuarterly...  business\n",
       "1  Dollar gains on Greenspan speech\\n\\nThe dollar...  business\n",
       "2  Yukos unit buyer faces loan claim\\n\\nThe owner...  business\n",
       "3  High fuel prices hit BA's profits\\n\\nBritish A...  business\n",
       "4  Pernod takeover talk lifts Domecq\\n\\nShares in...  business"
      ]
     },
     "execution_count": 4,
     "metadata": {},
     "output_type": "execute_result"
    }
   ],
   "source": [
    "df.head()"
   ]
  },
  {
   "cell_type": "code",
   "execution_count": 14,
   "id": "9b28103f-1763-4a84-a727-d136c8ebc409",
   "metadata": {},
   "outputs": [],
   "source": [
    "# populate word2idx. Convert documents into strings sequences of ints/ids/indices\n",
    "idx = 0\n",
    "word2idx = {}                       # Empty Dictionary to store word-to-index mappings\n",
    "tokenized_docs = []                 # Empty list to store tokenized documents\n",
    "\n",
    "for doc in df['text']:\n",
    "    tokens = word_tokenize(doc.lower())\n",
    "    doc_as_int = []\n",
    "    for token in tokens:\n",
    "        if token not in word2idx:\n",
    "            word2idx[token] = idx\n",
    "            idx+=1\n",
    "        doc_as_int.append(word2idx[token])   # Saving words in an integer list\n",
    "    tokenized_docs.append(doc_as_int)       # Saving tokenized docs in a list"
   ]
  },
  {
   "cell_type": "code",
   "execution_count": 15,
   "id": "a8afe999-0b76-456c-b683-196f3f2b7ac2",
   "metadata": {},
   "outputs": [],
   "source": [
    "# reverse mapping to deep neural networks\n",
    "idx2word = {v:k for k,v in word2idx.items()}"
   ]
  },
  {
   "cell_type": "code",
   "execution_count": 16,
   "id": "0388696f-2db3-4903-b1e1-c12f9abf22b1",
   "metadata": {},
   "outputs": [],
   "source": [
    "N = len(df['text'])         # Number of documents\n",
    "V = len(word2idx)           # Size of vocabulary"
   ]
  },
  {
   "cell_type": "code",
   "execution_count": 17,
   "id": "9e7f8983-4f4c-402e-a76a-bea51d933c38",
   "metadata": {},
   "outputs": [],
   "source": [
    "# create a term frequency matrix\n",
    "tf = np.zeros((N,V))"
   ]
  },
  {
   "cell_type": "code",
   "execution_count": 18,
   "id": "96679535-9fc7-40b7-b2d0-763fa4e7454a",
   "metadata": {},
   "outputs": [],
   "source": [
    "# populate the matrix\n",
    "\n",
    "for i,doc_as_int in enumerate(tokenized_docs):\n",
    "    for j in doc_as_int:\n",
    "        tf[i,j]+=1"
   ]
  },
  {
   "cell_type": "code",
   "execution_count": 19,
   "id": "222865b2-2194-4925-9cfe-481bcd63d096",
   "metadata": {},
   "outputs": [],
   "source": [
    "# compute IDF(Inverse Document Frequency)\n",
    "document_freq = np.sum(tf>0 , axis = 0) \n",
    "idf = np.log(N / document_freq)"
   ]
  },
  {
   "cell_type": "code",
   "execution_count": 20,
   "id": "6268cf70-d7a4-4577-827b-3bb1982eb616",
   "metadata": {},
   "outputs": [],
   "source": [
    "tf_idf = tf * idf"
   ]
  },
  {
   "cell_type": "code",
   "execution_count": 22,
   "id": "efb0392e-84cd-4792-b15f-b7ff85129263",
   "metadata": {},
   "outputs": [],
   "source": [
    "np.random.seed(123)"
   ]
  },
  {
   "cell_type": "code",
   "execution_count": 26,
   "id": "0df4ac80-fa81-4034-939f-8ebcd83b3aeb",
   "metadata": {},
   "outputs": [
    {
     "name": "stdout",
     "output_type": "stream",
     "text": [
      "Label:  tech\n",
      "Text :  IBM puts cash behind Linux push\n",
      "Top 5 terms: \n",
      "linux\n",
      "ibm\n",
      "workplace\n",
      "software\n",
      "programs\n"
     ]
    }
   ],
   "source": [
    "i = np.random.choice(N)\n",
    "row = df.iloc[i]\n",
    "print(\"Label: \" , row['labels'])\n",
    "print(\"Text : \", row['text'].split(\"\\n\" , 1)[0])\n",
    "print(\"Top 5 terms: \" )\n",
    "\n",
    "scores = tf_idf[i]\n",
    "indices = (-scores).argsort()\n",
    "\n",
    "for j in indices[:5]:\n",
    "    print(idx2word[j])"
   ]
  },
  {
   "cell_type": "code",
   "execution_count": null,
   "id": "26519cfa-4122-4e87-9f5c-a9daff1a5a27",
   "metadata": {},
   "outputs": [],
   "source": []
  }
 ],
 "metadata": {
  "kernelspec": {
   "display_name": "Python 3 (ipykernel)",
   "language": "python",
   "name": "python3"
  },
  "language_info": {
   "codemirror_mode": {
    "name": "ipython",
    "version": 3
   },
   "file_extension": ".py",
   "mimetype": "text/x-python",
   "name": "python",
   "nbconvert_exporter": "python",
   "pygments_lexer": "ipython3",
   "version": "3.12.2"
  }
 },
 "nbformat": 4,
 "nbformat_minor": 5
}
