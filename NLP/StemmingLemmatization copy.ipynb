{
 "cells": [
  {
   "cell_type": "code",
   "execution_count": 1,
   "id": "2382312a-2d20-4b6d-9199-850f7f7a4f52",
   "metadata": {},
   "outputs": [],
   "source": [
    "import nltk"
   ]
  },
  {
   "cell_type": "code",
   "execution_count": 2,
   "id": "a6e3f53a-b0c5-4c6e-b03f-a2a4e8ef7015",
   "metadata": {},
   "outputs": [],
   "source": [
    "from nltk.stem import PorterStemmer"
   ]
  },
  {
   "cell_type": "code",
   "execution_count": 3,
   "id": "6646c85b-7d29-4b8c-ba6e-45962a545c7a",
   "metadata": {},
   "outputs": [],
   "source": [
    "porter = PorterStemmer()      #Create instance of the PorterStemmer Class"
   ]
  },
  {
   "cell_type": "code",
   "execution_count": 4,
   "id": "b7c66b6c-52b3-4843-b0ce-a2e3bf056738",
   "metadata": {},
   "outputs": [
    {
     "data": {
      "text/plain": [
       "'walk'"
      ]
     },
     "execution_count": 4,
     "metadata": {},
     "output_type": "execute_result"
    }
   ],
   "source": [
    "porter.stem(\"walking\")"
   ]
  },
  {
   "cell_type": "code",
   "execution_count": 5,
   "id": "29f0e54f-ea69-477b-a6c8-adb1d2d71b1a",
   "metadata": {},
   "outputs": [
    {
     "data": {
      "text/plain": [
       "'walk'"
      ]
     },
     "execution_count": 5,
     "metadata": {},
     "output_type": "execute_result"
    }
   ],
   "source": [
    "porter.stem(\"walked\")"
   ]
  },
  {
   "cell_type": "code",
   "execution_count": 6,
   "id": "ebbb2b2b-6b59-44cc-b7ba-decc972485d2",
   "metadata": {},
   "outputs": [
    {
     "data": {
      "text/plain": [
       "'walk'"
      ]
     },
     "execution_count": 6,
     "metadata": {},
     "output_type": "execute_result"
    }
   ],
   "source": [
    "porter.stem(\"walks\")"
   ]
  },
  {
   "cell_type": "code",
   "execution_count": 7,
   "id": "09a3e6d5-e383-4dfc-97d5-5450498d26af",
   "metadata": {},
   "outputs": [
    {
     "data": {
      "text/plain": [
       "'ran'"
      ]
     },
     "execution_count": 7,
     "metadata": {},
     "output_type": "execute_result"
    }
   ],
   "source": [
    "porter.stem(\"ran\")"
   ]
  },
  {
   "cell_type": "code",
   "execution_count": 8,
   "id": "94f010d2-01a6-42ad-882e-9a8ec9439201",
   "metadata": {},
   "outputs": [
    {
     "data": {
      "text/plain": [
       "'run'"
      ]
     },
     "execution_count": 8,
     "metadata": {},
     "output_type": "execute_result"
    }
   ],
   "source": [
    "porter.stem(\"running\")"
   ]
  },
  {
   "cell_type": "code",
   "execution_count": 9,
   "id": "33ea959a-3ca4-4c99-8067-5e41a54221cb",
   "metadata": {},
   "outputs": [
    {
     "data": {
      "text/plain": [
       "'boss'"
      ]
     },
     "execution_count": 9,
     "metadata": {},
     "output_type": "execute_result"
    }
   ],
   "source": [
    "porter.stem(\"bosses\")"
   ]
  },
  {
   "cell_type": "code",
   "execution_count": 11,
   "id": "6674684d-f99d-4a6e-b2de-0ba3f6e4489f",
   "metadata": {},
   "outputs": [
    {
     "data": {
      "text/plain": [
       "'replac'"
      ]
     },
     "execution_count": 11,
     "metadata": {},
     "output_type": "execute_result"
    }
   ],
   "source": [
    "porter.stem(\"replacement\") # Output is Not a real word"
   ]
  },
  {
   "cell_type": "code",
   "execution_count": 13,
   "id": "260943c4-8890-43b5-b6fd-0b723843e6fc",
   "metadata": {},
   "outputs": [],
   "source": [
    "sentence = \"Lemmatization is more sophisticated than stemming\".split()"
   ]
  },
  {
   "cell_type": "code",
   "execution_count": 14,
   "id": "03b1de98-4a2e-4af1-be01-91273b034641",
   "metadata": {},
   "outputs": [
    {
     "name": "stdout",
     "output_type": "stream",
     "text": [
      "lemmat is more sophist than stem "
     ]
    }
   ],
   "source": [
    "for token in sentence:\n",
    "    print(porter.stem(token),end=\" \")"
   ]
  },
  {
   "cell_type": "code",
   "execution_count": 16,
   "id": "b19e37ba-b033-41e3-9bfb-b61c5970c0b6",
   "metadata": {},
   "outputs": [
    {
     "data": {
      "text/plain": [
       "'unnecessari'"
      ]
     },
     "execution_count": 16,
     "metadata": {},
     "output_type": "execute_result"
    }
   ],
   "source": [
    "porter.stem(\"unnecessary\")"
   ]
  },
  {
   "cell_type": "code",
   "execution_count": 17,
   "id": "d29cf0e0-8a39-4ac7-bb50-e348bd4c73d6",
   "metadata": {},
   "outputs": [
    {
     "data": {
      "text/plain": [
       "'berri'"
      ]
     },
     "execution_count": 17,
     "metadata": {},
     "output_type": "execute_result"
    }
   ],
   "source": [
    "porter.stem(\"berry\")"
   ]
  },
  {
   "cell_type": "code",
   "execution_count": 19,
   "id": "9dea7a30-5663-405d-a7a0-c5a804e1a8a3",
   "metadata": {},
   "outputs": [],
   "source": [
    "from nltk.stem import WordNetLemmatizer"
   ]
  },
  {
   "cell_type": "code",
   "execution_count": 20,
   "id": "8c963d05-150a-46ac-a7f1-f52028519b07",
   "metadata": {},
   "outputs": [
    {
     "name": "stderr",
     "output_type": "stream",
     "text": [
      "[nltk_data] Downloading package wordnet to /Users/shikhar/nltk_data...\n"
     ]
    },
    {
     "data": {
      "text/plain": [
       "True"
      ]
     },
     "execution_count": 20,
     "metadata": {},
     "output_type": "execute_result"
    }
   ],
   "source": [
    "nltk.download(\"wordnet\")"
   ]
  },
  {
   "cell_type": "code",
   "execution_count": 21,
   "id": "914c53f2-d89a-478d-a098-8582f445c77a",
   "metadata": {},
   "outputs": [],
   "source": [
    "from nltk.corpus import wordnet"
   ]
  },
  {
   "cell_type": "code",
   "execution_count": 22,
   "id": "095c8446-4737-4f7f-b0a6-80d2f5c4b60c",
   "metadata": {},
   "outputs": [],
   "source": [
    "lemmatizer = WordNetLemmatizer()"
   ]
  },
  {
   "cell_type": "code",
   "execution_count": 25,
   "id": "84edb524-446e-46cb-9642-f3e53e7db6b1",
   "metadata": {},
   "outputs": [
    {
     "data": {
      "text/plain": [
       "'walking'"
      ]
     },
     "execution_count": 25,
     "metadata": {},
     "output_type": "execute_result"
    }
   ],
   "source": [
    "lemmatizer.lemmatize(\"walking\") # Since walking is not a noun, the word remains unchanged. default pos = NOUN"
   ]
  },
  {
   "cell_type": "code",
   "execution_count": 26,
   "id": "d429d8fd-6e38-4695-b631-e60d37c0937e",
   "metadata": {},
   "outputs": [
    {
     "data": {
      "text/plain": [
       "'walk'"
      ]
     },
     "execution_count": 26,
     "metadata": {},
     "output_type": "execute_result"
    }
   ],
   "source": [
    "lemmatizer.lemmatize(\"walking\",pos=wordnet.VERB)"
   ]
  },
  {
   "cell_type": "code",
   "execution_count": 29,
   "id": "8f7847cf-5d93-4a29-91f2-d68138dd9775",
   "metadata": {},
   "outputs": [
    {
     "data": {
      "text/plain": [
       "'going'"
      ]
     },
     "execution_count": 29,
     "metadata": {},
     "output_type": "execute_result"
    }
   ],
   "source": [
    "lemmatizer.lemmatize(\"going\")"
   ]
  },
  {
   "cell_type": "code",
   "execution_count": 30,
   "id": "c51c7258-e05b-4a86-97f3-cbc647efd848",
   "metadata": {},
   "outputs": [
    {
     "data": {
      "text/plain": [
       "'go'"
      ]
     },
     "execution_count": 30,
     "metadata": {},
     "output_type": "execute_result"
    }
   ],
   "source": [
    "lemmatizer.lemmatize(\"going\",pos=wordnet.VERB)"
   ]
  },
  {
   "cell_type": "code",
   "execution_count": 31,
   "id": "45b70f3c-bec6-4e94-860c-bb4864cfa301",
   "metadata": {},
   "outputs": [
    {
     "data": {
      "text/plain": [
       "'run'"
      ]
     },
     "execution_count": 31,
     "metadata": {},
     "output_type": "execute_result"
    }
   ],
   "source": [
    "lemmatizer.lemmatize(\"ran\",pos=wordnet.VERB)"
   ]
  },
  {
   "cell_type": "code",
   "execution_count": 32,
   "id": "5e5686e0-d23d-406e-bba9-7f95e5425232",
   "metadata": {},
   "outputs": [
    {
     "data": {
      "text/plain": [
       "'mice'"
      ]
     },
     "execution_count": 32,
     "metadata": {},
     "output_type": "execute_result"
    }
   ],
   "source": [
    "porter.stem(\"mice\")"
   ]
  },
  {
   "cell_type": "code",
   "execution_count": 33,
   "id": "291b2938-8659-4ecb-bfb4-5861020f30fc",
   "metadata": {},
   "outputs": [
    {
     "data": {
      "text/plain": [
       "'mouse'"
      ]
     },
     "execution_count": 33,
     "metadata": {},
     "output_type": "execute_result"
    }
   ],
   "source": [
    "lemmatizer.lemmatize(\"mice\")"
   ]
  },
  {
   "cell_type": "code",
   "execution_count": 34,
   "id": "1120fb05-6ce0-4204-8cdc-b64ffa38ca95",
   "metadata": {},
   "outputs": [
    {
     "data": {
      "text/plain": [
       "'be'"
      ]
     },
     "execution_count": 34,
     "metadata": {},
     "output_type": "execute_result"
    }
   ],
   "source": [
    "lemmatizer.lemmatize(\"was\",pos=wordnet.VERB)"
   ]
  },
  {
   "cell_type": "code",
   "execution_count": 36,
   "id": "4923f805-8305-4983-a59f-a7e1f1c977f2",
   "metadata": {},
   "outputs": [],
   "source": [
    "\"\"\"Function to mark parts of speech automatically in different sentences\"\"\"\n",
    "\n",
    "def get_wordnet_pos(treebank_tag):\n",
    "    if treebank_tag.startswith('J'):\n",
    "        return wordnet.ADJ\n",
    "    elif treebank_tag.startswith('V'):\n",
    "        return wordnet.VERB\n",
    "    elif treebank_tag.startswith('N'):\n",
    "        return wordnet.NOUN\n",
    "    elif treebank_tag.startswith('R'):\n",
    "        return wordnet.ADV\n",
    "    else:\n",
    "        return wordnet.NOUN"
   ]
  },
  {
   "cell_type": "code",
   "execution_count": 37,
   "id": "c0cfc847-8eb7-4709-94a5-5b98b5b87f7f",
   "metadata": {},
   "outputs": [
    {
     "name": "stderr",
     "output_type": "stream",
     "text": [
      "[nltk_data] Downloading package averaged_perceptron_tagger to\n",
      "[nltk_data]     /Users/shikhar/nltk_data...\n",
      "[nltk_data]   Unzipping taggers/averaged_perceptron_tagger.zip.\n"
     ]
    },
    {
     "data": {
      "text/plain": [
       "True"
      ]
     },
     "execution_count": 37,
     "metadata": {},
     "output_type": "execute_result"
    }
   ],
   "source": [
    "nltk.download('averaged_perceptron_tagger'"
   ]
  },
  {
   "cell_type": "code",
   "execution_count": 38,
   "id": "465eb515-dea8-4ab0-99bd-1bdbcf4b1e53",
   "metadata": {},
   "outputs": [],
   "source": [
    "sentence = \"Donald Trump has a devoted following\".split()"
   ]
  },
  {
   "cell_type": "code",
   "execution_count": 41,
   "id": "bcf4017c-7628-494b-a8e7-bbe99082df63",
   "metadata": {},
   "outputs": [
    {
     "data": {
      "text/plain": [
       "[('Donald', 'NNP'),\n",
       " ('Trump', 'NNP'),\n",
       " ('has', 'VBZ'),\n",
       " ('a', 'DT'),\n",
       " ('devoted', 'VBN'),\n",
       " ('following', 'NN')]"
      ]
     },
     "execution_count": 41,
     "metadata": {},
     "output_type": "execute_result"
    }
   ],
   "source": [
    "words_and_tags = nltk.pos_tag(sentence)\n",
    "words_and_tags"
   ]
  },
  {
   "cell_type": "code",
   "execution_count": 42,
   "id": "f3fdb419-4b74-47b4-bed6-d3292c5098e3",
   "metadata": {},
   "outputs": [
    {
     "name": "stdout",
     "output_type": "stream",
     "text": [
      "Donald Trump have a devote following "
     ]
    }
   ],
   "source": [
    "for word,tag in words_and_tags:\n",
    "    lemma = lemmatizer.lemmatize(word,pos=get_wordnet_pos(tag))\n",
    "    print(lemma,end=\" \")"
   ]
  },
  {
   "cell_type": "code",
   "execution_count": null,
   "id": "e4ef9cb2-cb8a-4dd7-8a53-de060aa4caad",
   "metadata": {},
   "outputs": [],
   "source": []
  }
 ],
 "metadata": {
  "kernelspec": {
   "display_name": "Python 3 (ipykernel)",
   "language": "python",
   "name": "python3"
  },
  "language_info": {
   "codemirror_mode": {
    "name": "ipython",
    "version": 3
   },
   "file_extension": ".py",
   "mimetype": "text/x-python",
   "name": "python",
   "nbconvert_exporter": "python",
   "pygments_lexer": "ipython3",
   "version": "3.12.2"
  }
 },
 "nbformat": 4,
 "nbformat_minor": 5
}
