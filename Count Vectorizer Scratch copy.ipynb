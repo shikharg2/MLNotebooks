{
 "cells": [
  {
   "cell_type": "code",
   "execution_count": 13,
   "id": "f6d19baa-53ba-45c5-ace7-2f184924de15",
   "metadata": {},
   "outputs": [],
   "source": [
    "data = [\n",
    "    \"The sky is blue\",\n",
    "    \"The sun is bright\",\n",
    "    \"The sun in the sky is bright\",\n",
    "    \"We can see the shining sun, the bright sun\"\n",
    "]"
   ]
  },
  {
   "cell_type": "code",
   "execution_count": 14,
   "id": "76d1416f-b00e-442e-bf4f-0163a0ff118b",
   "metadata": {},
   "outputs": [
    {
     "name": "stdout",
     "output_type": "stream",
     "text": [
      "{'bright', 'see', 'can', 'sky', 'The', 'the', 'sun', 'blue', 'shining', 'sun,'}\n"
     ]
    }
   ],
   "source": [
    "unique_words = set()\n",
    "for each_sentence in data:\n",
    "    for each_word in each_sentence.split(' '):\n",
    "        if len(each_word) > 2:\n",
    "            unique_words.add(each_word)\n",
    "print(unique_words)"
   ]
  },
  {
   "cell_type": "code",
   "execution_count": 15,
   "id": "078bf063-1562-4000-922e-a6e50bb970aa",
   "metadata": {},
   "outputs": [
    {
     "name": "stdout",
     "output_type": "stream",
     "text": [
      "{'The': 0, 'blue': 1, 'bright': 2, 'can': 3, 'see': 4, 'shining': 5, 'sky': 6, 'sun': 7, 'sun,': 8, 'the': 9}\n"
     ]
    }
   ],
   "source": [
    "vocab = {}\n",
    "for index,word in enumerate(sorted(list(unique_words))):\n",
    "    vocab[word] = index\n",
    "print(vocab)\n",
    "    "
   ]
  },
  {
   "cell_type": "code",
   "execution_count": 16,
   "id": "3dc10da6-8cba-4580-b07f-644eac9d8b24",
   "metadata": {},
   "outputs": [],
   "source": [
    "from collections import Counter\n",
    "from scipy.sparse import csr_matrix"
   ]
  },
  {
   "cell_type": "code",
   "execution_count": 24,
   "id": "57fad746-290f-44ce-a8f1-54f9eb9cce64",
   "metadata": {},
   "outputs": [
    {
     "name": "stdout",
     "output_type": "stream",
     "text": [
      "[3, 3, 3, 3, 3, 3, 3, 3, 3, 3, 3, 3, 3, 3, 3, 3, 3, 3]\n",
      "[0, 6, 1, 0, 7, 2, 0, 7, 9, 6, 2, 3, 4, 9, 5, 8, 2, 7]\n",
      "[1, 1, 1, 1, 1, 1, 1, 1, 1, 1, 1, 1, 1, 2, 1, 1, 1, 1]\n"
     ]
    }
   ],
   "source": [
    "row , col , val = [] , [] , []\n",
    "for index,sentence in enumerate(data):\n",
    "    count_word = dict(Counter(sentence.split(' ')))\n",
    "    for word,count in count_word.items():\n",
    "        if len(word)>2 :\n",
    "            col_index = vocab.get(word)\n",
    "            if col_index >= 0:\n",
    "                row.append(idx)\n",
    "                col.append(col_index)\n",
    "                val.append(count)\n",
    "print(row)\n",
    "print(col)\n",
    "print(val)"
   ]
  },
  {
   "cell_type": "code",
   "execution_count": 27,
   "id": "0b4af81d-7e5d-42db-bdda-0d459fe21668",
   "metadata": {},
   "outputs": [
    {
     "name": "stdout",
     "output_type": "stream",
     "text": [
      "[[0 0 0 0 0 0 0 0 0 0]\n",
      " [0 0 0 0 0 0 0 0 0 0]\n",
      " [0 0 0 0 0 0 0 0 0 0]\n",
      " [3 1 3 1 1 1 2 3 1 3]]\n"
     ]
    }
   ],
   "source": [
    "print((csr_matrix((val,(row,col)),shape=(len(data),len(vocab)))).toarray())"
   ]
  },
  {
   "cell_type": "code",
   "execution_count": null,
   "id": "aba1eedb-a628-4e45-b10e-4dc30094550c",
   "metadata": {},
   "outputs": [],
   "source": []
  }
 ],
 "metadata": {
  "kernelspec": {
   "display_name": "Python 3 (ipykernel)",
   "language": "python",
   "name": "python3"
  },
  "language_info": {
   "codemirror_mode": {
    "name": "ipython",
    "version": 3
   },
   "file_extension": ".py",
   "mimetype": "text/x-python",
   "name": "python",
   "nbconvert_exporter": "python",
   "pygments_lexer": "ipython3",
   "version": "3.12.2"
  }
 },
 "nbformat": 4,
 "nbformat_minor": 5
}
